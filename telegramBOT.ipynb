{
  "nbformat": 4,
  "nbformat_minor": 0,
  "metadata": {
    "colab": {
      "provenance": [],
      "authorship_tag": "ABX9TyP9GNurd+YJvcb3H0V2H/aO",
      "include_colab_link": true
    },
    "kernelspec": {
      "name": "python3",
      "display_name": "Python 3"
    },
    "language_info": {
      "name": "python"
    }
  },
  "cells": [
    {
      "cell_type": "markdown",
      "metadata": {
        "id": "view-in-github",
        "colab_type": "text"
      },
      "source": [
        "<a href=\"https://colab.research.google.com/github/EVARIST-DEV/EVARIST-DEV.github.io/blob/main/telegramBOT.ipynb\" target=\"_parent\"><img src=\"https://colab.research.google.com/assets/colab-badge.svg\" alt=\"Open In Colab\"/></a>"
      ]
    },
    {
      "cell_type": "code",
      "execution_count": 1,
      "metadata": {
        "id": "_6Aard-ooDXK",
        "colab": {
          "base_uri": "https://localhost:8080/"
        },
        "outputId": "87ec9905-0d5a-4a4d-8e0c-9e32723b12e8"
      },
      "outputs": [
        {
          "output_type": "stream",
          "name": "stdout",
          "text": [
            "Looking in indexes: https://pypi.org/simple, https://us-python.pkg.dev/colab-wheels/public/simple/\n",
            "Collecting python-telegram-bot==13.3\n",
            "  Downloading python_telegram_bot-13.3-py3-none-any.whl (436 kB)\n",
            "\u001b[2K     \u001b[90m━━━━━━━━━━━━━━━━━━━━━━━━━━━━━━━━━━━━━━━\u001b[0m \u001b[32m436.3/436.3 kB\u001b[0m \u001b[31m7.9 MB/s\u001b[0m eta \u001b[36m0:00:00\u001b[0m\n",
            "\u001b[?25hRequirement already satisfied: certifi in /usr/local/lib/python3.10/dist-packages (from python-telegram-bot==13.3) (2022.12.7)\n",
            "Requirement already satisfied: tornado>=5.1 in /usr/local/lib/python3.10/dist-packages (from python-telegram-bot==13.3) (6.3.1)\n",
            "Collecting APScheduler==3.6.3 (from python-telegram-bot==13.3)\n",
            "  Downloading APScheduler-3.6.3-py2.py3-none-any.whl (58 kB)\n",
            "\u001b[2K     \u001b[90m━━━━━━━━━━━━━━━━━━━━━━━━━━━━━━━━━━━━━━━━\u001b[0m \u001b[32m58.9/58.9 kB\u001b[0m \u001b[31m8.0 MB/s\u001b[0m eta \u001b[36m0:00:00\u001b[0m\n",
            "\u001b[?25hRequirement already satisfied: pytz>=2018.6 in /usr/local/lib/python3.10/dist-packages (from python-telegram-bot==13.3) (2022.7.1)\n",
            "Requirement already satisfied: setuptools>=0.7 in /usr/local/lib/python3.10/dist-packages (from APScheduler==3.6.3->python-telegram-bot==13.3) (67.7.2)\n",
            "Requirement already satisfied: six>=1.4.0 in /usr/local/lib/python3.10/dist-packages (from APScheduler==3.6.3->python-telegram-bot==13.3) (1.16.0)\n",
            "Requirement already satisfied: tzlocal>=1.2 in /usr/local/lib/python3.10/dist-packages (from APScheduler==3.6.3->python-telegram-bot==13.3) (4.3)\n",
            "Requirement already satisfied: pytz-deprecation-shim in /usr/local/lib/python3.10/dist-packages (from tzlocal>=1.2->APScheduler==3.6.3->python-telegram-bot==13.3) (0.1.0.post0)\n",
            "Requirement already satisfied: tzdata in /usr/local/lib/python3.10/dist-packages (from pytz-deprecation-shim->tzlocal>=1.2->APScheduler==3.6.3->python-telegram-bot==13.3) (2023.3)\n",
            "Installing collected packages: APScheduler, python-telegram-bot\n",
            "Successfully installed APScheduler-3.6.3 python-telegram-bot-13.3\n"
          ]
        }
      ],
      "source": [
        "!pip install python-telegram-bot==13.3\n"
      ]
    },
    {
      "cell_type": "code",
      "source": [
        "import telegram.ext"
      ],
      "metadata": {
        "id": "4TemaoSdpV6v"
      },
      "execution_count": 2,
      "outputs": []
    },
    {
      "cell_type": "code",
      "source": [
        "from telegram.ext import *"
      ],
      "metadata": {
        "id": "RnW95-9ipK-b"
      },
      "execution_count": 3,
      "outputs": []
    },
    {
      "cell_type": "code",
      "source": [
        "Token= \"5854446635:AAGCznaXjU9E0XuLJ-Kp9tEYGWlndfDo_zM\""
      ],
      "metadata": {
        "id": "YR3UcvTOoRJv"
      },
      "execution_count": 4,
      "outputs": []
    },
    {
      "cell_type": "code",
      "source": [
        "updater =telegram.ext.Updater(\"5854446635:AAGCznaXjU9E0XuLJ-Kp9tEYGWlndfDo_zM\",use_context=True)\n"
      ],
      "metadata": {
        "id": "UdyEZAlxoXbD"
      },
      "execution_count": 5,
      "outputs": []
    },
    {
      "cell_type": "code",
      "source": [
        "dispatcher =updater.dispatcher"
      ],
      "metadata": {
        "id": "MsRSloPeqadv"
      },
      "execution_count": 6,
      "outputs": []
    },
    {
      "cell_type": "code",
      "source": [
        "def start(update, context):\n",
        "    update.message.reply_text(\"Hello! welcome what can Nancy help you? click /help, /content, /contact\")"
      ],
      "metadata": {
        "id": "4oXFx_TIsnjb"
      },
      "execution_count": null,
      "outputs": []
    },
    {
      "cell_type": "code",
      "source": [
        "def help(update, context):\n",
        "       update.message.reply_text(\n",
        "             \"\"\"\"\n",
        "             /start->Welcome to this community\n",
        "             /content\n",
        "             /help->Lets help you\n",
        "             /contact-> for the information\"\"\"\n",
        "       )"
      ],
      "metadata": {
        "id": "4JheC9L5sysR"
      },
      "execution_count": 8,
      "outputs": []
    },
    {
      "cell_type": "code",
      "source": [
        "def content(update, context):\n",
        "      update.message.reply_text(\"we offer different services in our channel\")"
      ],
      "metadata": {
        "id": "EA7deI3Ms6yw"
      },
      "execution_count": 9,
      "outputs": []
    },
    {
      "cell_type": "code",
      "source": [
        "def contact(update, contact):\n",
        "      update.message.reply_text(\"IGlink: https://instagram.com/evarist_ej?igshid=MzNlNGNkZWQ4Mg==\")"
      ],
      "metadata": {
        "id": "6ON5mcoVtCZS"
      },
      "execution_count": 10,
      "outputs": []
    },
    {
      "cell_type": "code",
      "source": [
        "\n",
        "def help(update, help):\n",
        "      update.message.reply_text(\"Welcome we can help you make sure you contact our support manager by clicking contact Button bellow\")"
      ],
      "metadata": {
        "id": "QBUB_on8tNRN"
      },
      "execution_count": 11,
      "outputs": []
    },
    {
      "cell_type": "code",
      "source": [
        "dispatcher.add_handler(telegram.ext.CommandHandler('start',start))"
      ],
      "metadata": {
        "id": "OOO_G2bNtXPx"
      },
      "execution_count": 12,
      "outputs": []
    },
    {
      "cell_type": "code",
      "source": [
        "dispatcher.add_handler(telegram.ext.CommandHandler('content',content))\n"
      ],
      "metadata": {
        "id": "vNGNOdD1tfhq"
      },
      "execution_count": 13,
      "outputs": []
    },
    {
      "cell_type": "code",
      "source": [
        "dispatcher.add_handler(telegram.ext.CommandHandler('contact',contact))\n"
      ],
      "metadata": {
        "id": "rmEMm0EFthj7"
      },
      "execution_count": 14,
      "outputs": []
    },
    {
      "cell_type": "code",
      "source": [
        "dispatcher.add_handler(telegram.ext.CommandHandler('help',help))\n"
      ],
      "metadata": {
        "id": "cIWv2JrntoLp"
      },
      "execution_count": 15,
      "outputs": []
    },
    {
      "cell_type": "code",
      "source": [
        "updater.start_polling()\n"
      ],
      "metadata": {
        "id": "OnPyPg0Mttzs",
        "colab": {
          "base_uri": "https://localhost:8080/"
        },
        "outputId": "a23aa5bb-86ef-489c-f818-316e65c61699"
      },
      "execution_count": 16,
      "outputs": [
        {
          "output_type": "execute_result",
          "data": {
            "text/plain": [
              "<queue.Queue at 0x7f08dc127760>"
            ]
          },
          "metadata": {},
          "execution_count": 16
        }
      ]
    },
    {
      "cell_type": "code",
      "source": [
        "updater.idle()"
      ],
      "metadata": {
        "id": "UBbXcTBdt1OE"
      },
      "execution_count": null,
      "outputs": []
    }
  ]
}